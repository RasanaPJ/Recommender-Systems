{
 "cells": [
  {
   "cell_type": "markdown",
   "metadata": {},
   "source": [
    "## Association Rule Mining"
   ]
  },
  {
   "cell_type": "markdown",
   "metadata": {},
   "source": [
    "### Data set - http://cox.csueastbay.edu/~esuess/classes/Statistics_6620/Presentations/ml13/groceries.csv"
   ]
  },
  {
   "cell_type": "markdown",
   "metadata": {},
   "source": [
    "### The priimary objective of the recommender system is to predict items that a customer may purchase in the future based on his/her purchases so far.\n",
    "### Association rule finds combiation of items that frequently occur together in orders or baskets.(in retail context)\n",
    "### Association rule considers all possible combination of items in the previous basket and computes various measures such as support, confidence and lift to identify rules with stronger association.\n",
    "### Apriori algorithm  - it uses minimum support criteria to reduce the number of possible itemset combinations, to reduce computational requirements."
   ]
  },
  {
   "cell_type": "markdown",
   "metadata": {},
   "source": [
    "# Load the data set"
   ]
  },
  {
   "cell_type": "code",
   "execution_count": 7,
   "metadata": {},
   "outputs": [],
   "source": [
    "all_txns = []\n",
    "#open the file\n",
    "with open('data\\groceries.csv') as f:\n",
    "    #read each line\n",
    "    content = f.readlines()\n",
    "    #Remove white space from the beginning and end of each line\n",
    "    txns= [x.strip() for x in content]\n",
    "    #Iterate through each lie and create a list of transactions\n",
    "    for t in txns:\n",
    "        # Each transaction will contain a list of item in the transaction\n",
    "        all_txns.append(t.split(','))"
   ]
  },
  {
   "cell_type": "code",
   "execution_count": 8,
   "metadata": {},
   "outputs": [
    {
     "data": {
      "text/plain": [
       "[['citrus fruit', 'semi-finished bread', 'margarine', 'ready soups'],\n",
       " ['tropical fruit', 'yogurt', 'coffee'],\n",
       " ['whole milk'],\n",
       " ['pip fruit', 'yogurt', 'cream cheese', 'meat spreads'],\n",
       " ['other vegetables',\n",
       "  'whole milk',\n",
       "  'condensed milk',\n",
       "  'long life bakery product']]"
      ]
     },
     "execution_count": 8,
     "metadata": {},
     "output_type": "execute_result"
    }
   ],
   "source": [
    "all_txns[0:5]"
   ]
  },
  {
   "cell_type": "markdown",
   "metadata": {},
   "source": [
    "## Encoding the transactions"
   ]
  },
  {
   "cell_type": "code",
   "execution_count": 9,
   "metadata": {},
   "outputs": [],
   "source": [
    "import pandas as pd\n",
    "import numpy as np\n",
    "from mlxtend.preprocessing import OnehotTransactions\n",
    "from mlxtend.frequent_patterns import apriori, association_rules"
   ]
  },
  {
   "cell_type": "code",
   "execution_count": 16,
   "metadata": {},
   "outputs": [],
   "source": [
    "import warnings\n",
    "warnings.filterwarnings('ignore')"
   ]
  },
  {
   "cell_type": "code",
   "execution_count": 31,
   "metadata": {},
   "outputs": [
    {
     "name": "stderr",
     "output_type": "stream",
     "text": [
      "C:\\ProgramData\\Anaconda3\\lib\\site-packages\\mlxtend\\preprocessing\\onehot.py:66: DeprecationWarning: OnehotTransactions has been deprecated and will be removed in future. Please use TransactionEncoder instead.\n",
      "  warnings.warn(msg, DeprecationWarning)\n"
     ]
    }
   ],
   "source": [
    "# initialise onehot transactions and transfor the data into one-hot encoding format\n",
    "one_hot_encoding = OnehotTransactions()\n",
    "one_hot_txns = one_hot_encoding.fit(all_txns).transform(all_txns).astype('int')\n",
    "#Convert the matrix to Data frame\n",
    "one_hot_txns_df = pd.DataFrame(one_hot_txns, columns=one_hot_encoding.columns_)"
   ]
  },
  {
   "cell_type": "code",
   "execution_count": 32,
   "metadata": {},
   "outputs": [
    {
     "data": {
      "text/html": [
       "<div>\n",
       "<style scoped>\n",
       "    .dataframe tbody tr th:only-of-type {\n",
       "        vertical-align: middle;\n",
       "    }\n",
       "\n",
       "    .dataframe tbody tr th {\n",
       "        vertical-align: top;\n",
       "    }\n",
       "\n",
       "    .dataframe thead th {\n",
       "        text-align: right;\n",
       "    }\n",
       "</style>\n",
       "<table border=\"1\" class=\"dataframe\">\n",
       "  <thead>\n",
       "    <tr style=\"text-align: right;\">\n",
       "      <th></th>\n",
       "      <th>berries</th>\n",
       "      <th>beverages</th>\n",
       "      <th>bottled beer</th>\n",
       "      <th>bottled water</th>\n",
       "      <th>brandy</th>\n",
       "      <th>brown bread</th>\n",
       "      <th>butter</th>\n",
       "      <th>butter milk</th>\n",
       "      <th>cake bar</th>\n",
       "      <th>candles</th>\n",
       "    </tr>\n",
       "  </thead>\n",
       "  <tbody>\n",
       "    <tr>\n",
       "      <th>5</th>\n",
       "      <td>0</td>\n",
       "      <td>0</td>\n",
       "      <td>0</td>\n",
       "      <td>0</td>\n",
       "      <td>0</td>\n",
       "      <td>0</td>\n",
       "      <td>1</td>\n",
       "      <td>0</td>\n",
       "      <td>0</td>\n",
       "      <td>0</td>\n",
       "    </tr>\n",
       "    <tr>\n",
       "      <th>6</th>\n",
       "      <td>0</td>\n",
       "      <td>0</td>\n",
       "      <td>0</td>\n",
       "      <td>0</td>\n",
       "      <td>0</td>\n",
       "      <td>0</td>\n",
       "      <td>0</td>\n",
       "      <td>0</td>\n",
       "      <td>0</td>\n",
       "      <td>0</td>\n",
       "    </tr>\n",
       "    <tr>\n",
       "      <th>7</th>\n",
       "      <td>0</td>\n",
       "      <td>0</td>\n",
       "      <td>1</td>\n",
       "      <td>0</td>\n",
       "      <td>0</td>\n",
       "      <td>0</td>\n",
       "      <td>0</td>\n",
       "      <td>0</td>\n",
       "      <td>0</td>\n",
       "      <td>0</td>\n",
       "    </tr>\n",
       "    <tr>\n",
       "      <th>8</th>\n",
       "      <td>0</td>\n",
       "      <td>0</td>\n",
       "      <td>0</td>\n",
       "      <td>0</td>\n",
       "      <td>0</td>\n",
       "      <td>0</td>\n",
       "      <td>0</td>\n",
       "      <td>0</td>\n",
       "      <td>0</td>\n",
       "      <td>0</td>\n",
       "    </tr>\n",
       "    <tr>\n",
       "      <th>9</th>\n",
       "      <td>0</td>\n",
       "      <td>0</td>\n",
       "      <td>0</td>\n",
       "      <td>0</td>\n",
       "      <td>0</td>\n",
       "      <td>0</td>\n",
       "      <td>0</td>\n",
       "      <td>0</td>\n",
       "      <td>0</td>\n",
       "      <td>0</td>\n",
       "    </tr>\n",
       "  </tbody>\n",
       "</table>\n",
       "</div>"
      ],
      "text/plain": [
       "   berries  beverages  bottled beer  bottled water  brandy  brown bread  butter  butter milk  cake bar  candles\n",
       "5        0          0             0              0       0            0       1            0         0        0\n",
       "6        0          0             0              0       0            0       0            0         0        0\n",
       "7        0          0             1              0       0            0       0            0         0        0\n",
       "8        0          0             0              0       0            0       0            0         0        0\n",
       "9        0          0             0              0       0            0       0            0         0        0"
      ]
     },
     "execution_count": 32,
     "metadata": {},
     "output_type": "execute_result"
    }
   ],
   "source": [
    "one_hot_txns_df.iloc[5:10,10:20]"
   ]
  },
  {
   "cell_type": "markdown",
   "metadata": {},
   "source": [
    "from mlxtend.preprocessing import TransactionEncoder\n",
    "one_hot_encoding = TransactionEncoder()\n",
    "one_hot_txns = one_hot_encoding.fit(all_txns).transform(all_txns)\n",
    "#Convert the matrix to Data frame\n",
    "one_hot_txns_df = pd.DataFrame(one_hot_txns, columns=one_hot_encoding.columns_)"
   ]
  },
  {
   "cell_type": "markdown",
   "metadata": {},
   "source": [
    "one_hot_txns_df.head()"
   ]
  },
  {
   "cell_type": "code",
   "execution_count": 33,
   "metadata": {},
   "outputs": [
    {
     "data": {
      "text/plain": [
       "(9835, 169)"
      ]
     },
     "execution_count": 33,
     "metadata": {},
     "output_type": "execute_result"
    }
   ],
   "source": [
    "one_hot_txns_df.shape"
   ]
  },
  {
   "cell_type": "markdown",
   "metadata": {},
   "source": [
    "## Generate Association rule"
   ]
  },
  {
   "cell_type": "code",
   "execution_count": 34,
   "metadata": {},
   "outputs": [],
   "source": [
    "# Let's use minimum support of 0.02 means, theitemset is available atleast2% of all transactions.\n",
    "frequent_itemset = apriori(one_hot_txns_df, min_support=0.02, use_colnames=True)"
   ]
  },
  {
   "cell_type": "code",
   "execution_count": 35,
   "metadata": {},
   "outputs": [
    {
     "data": {
      "text/html": [
       "<div>\n",
       "<style scoped>\n",
       "    .dataframe tbody tr th:only-of-type {\n",
       "        vertical-align: middle;\n",
       "    }\n",
       "\n",
       "    .dataframe tbody tr th {\n",
       "        vertical-align: top;\n",
       "    }\n",
       "\n",
       "    .dataframe thead th {\n",
       "        text-align: right;\n",
       "    }\n",
       "</style>\n",
       "<table border=\"1\" class=\"dataframe\">\n",
       "  <thead>\n",
       "    <tr style=\"text-align: right;\">\n",
       "      <th></th>\n",
       "      <th>support</th>\n",
       "      <th>itemsets</th>\n",
       "    </tr>\n",
       "  </thead>\n",
       "  <tbody>\n",
       "    <tr>\n",
       "      <th>60</th>\n",
       "      <td>0.020437</td>\n",
       "      <td>(whole milk, bottled beer)</td>\n",
       "    </tr>\n",
       "    <tr>\n",
       "      <th>52</th>\n",
       "      <td>0.033859</td>\n",
       "      <td>(sugar)</td>\n",
       "    </tr>\n",
       "    <tr>\n",
       "      <th>89</th>\n",
       "      <td>0.035892</td>\n",
       "      <td>(tropical fruit, other vegetables)</td>\n",
       "    </tr>\n",
       "    <tr>\n",
       "      <th>105</th>\n",
       "      <td>0.021047</td>\n",
       "      <td>(tropical fruit, root vegetables)</td>\n",
       "    </tr>\n",
       "    <tr>\n",
       "      <th>88</th>\n",
       "      <td>0.032740</td>\n",
       "      <td>(soda, other vegetables)</td>\n",
       "    </tr>\n",
       "    <tr>\n",
       "      <th>16</th>\n",
       "      <td>0.058058</td>\n",
       "      <td>(coffee)</td>\n",
       "    </tr>\n",
       "    <tr>\n",
       "      <th>111</th>\n",
       "      <td>0.024504</td>\n",
       "      <td>(shopping bags, whole milk)</td>\n",
       "    </tr>\n",
       "    <tr>\n",
       "      <th>36</th>\n",
       "      <td>0.079817</td>\n",
       "      <td>(newspapers)</td>\n",
       "    </tr>\n",
       "    <tr>\n",
       "      <th>119</th>\n",
       "      <td>0.056024</td>\n",
       "      <td>(whole milk, yogurt)</td>\n",
       "    </tr>\n",
       "    <tr>\n",
       "      <th>55</th>\n",
       "      <td>0.071683</td>\n",
       "      <td>(whipped/sour cream)</td>\n",
       "    </tr>\n",
       "  </tbody>\n",
       "</table>\n",
       "</div>"
      ],
      "text/plain": [
       "      support                            itemsets\n",
       "60   0.020437          (whole milk, bottled beer)\n",
       "52   0.033859                             (sugar)\n",
       "89   0.035892  (tropical fruit, other vegetables)\n",
       "105  0.021047   (tropical fruit, root vegetables)\n",
       "88   0.032740            (soda, other vegetables)\n",
       "16   0.058058                            (coffee)\n",
       "111  0.024504         (shopping bags, whole milk)\n",
       "36   0.079817                        (newspapers)\n",
       "119  0.056024                (whole milk, yogurt)\n",
       "55   0.071683                (whipped/sour cream)"
      ]
     },
     "execution_count": 35,
     "metadata": {},
     "output_type": "execute_result"
    }
   ],
   "source": [
    "frequent_itemset.sample(10, random_state=90)"
   ]
  },
  {
   "cell_type": "markdown",
   "metadata": {},
   "source": [
    "### Note: The apriori algiorithm filters out itemsets which have minimum support of >2%.\n",
    "### From the above table we can infer that whole milk and yogurt appear together in about 5.6% of the baskets."
   ]
  },
  {
   "cell_type": "code",
   "execution_count": 36,
   "metadata": {},
   "outputs": [],
   "source": [
    "# pass the item set to association rule\n",
    "rules = association_rules(frequent_itemset, metric='lift', min_threshold=1)"
   ]
  },
  {
   "cell_type": "code",
   "execution_count": 37,
   "metadata": {},
   "outputs": [
    {
     "data": {
      "text/html": [
       "<div>\n",
       "<style scoped>\n",
       "    .dataframe tbody tr th:only-of-type {\n",
       "        vertical-align: middle;\n",
       "    }\n",
       "\n",
       "    .dataframe tbody tr th {\n",
       "        vertical-align: top;\n",
       "    }\n",
       "\n",
       "    .dataframe thead th {\n",
       "        text-align: right;\n",
       "    }\n",
       "</style>\n",
       "<table border=\"1\" class=\"dataframe\">\n",
       "  <thead>\n",
       "    <tr style=\"text-align: right;\">\n",
       "      <th></th>\n",
       "      <th>antecedents</th>\n",
       "      <th>consequents</th>\n",
       "      <th>antecedent support</th>\n",
       "      <th>consequent support</th>\n",
       "      <th>support</th>\n",
       "      <th>confidence</th>\n",
       "      <th>lift</th>\n",
       "      <th>leverage</th>\n",
       "      <th>conviction</th>\n",
       "    </tr>\n",
       "  </thead>\n",
       "  <tbody>\n",
       "    <tr>\n",
       "      <th>80</th>\n",
       "      <td>(soda)</td>\n",
       "      <td>(rolls/buns)</td>\n",
       "      <td>0.174377</td>\n",
       "      <td>0.183935</td>\n",
       "      <td>0.038332</td>\n",
       "      <td>0.219825</td>\n",
       "      <td>1.195124</td>\n",
       "      <td>0.006258</td>\n",
       "      <td>1.046003</td>\n",
       "    </tr>\n",
       "    <tr>\n",
       "      <th>73</th>\n",
       "      <td>(whole milk)</td>\n",
       "      <td>(pip fruit)</td>\n",
       "      <td>0.255516</td>\n",
       "      <td>0.075648</td>\n",
       "      <td>0.030097</td>\n",
       "      <td>0.117788</td>\n",
       "      <td>1.557043</td>\n",
       "      <td>0.010767</td>\n",
       "      <td>1.047765</td>\n",
       "    </tr>\n",
       "    <tr>\n",
       "      <th>86</th>\n",
       "      <td>(yogurt)</td>\n",
       "      <td>(rolls/buns)</td>\n",
       "      <td>0.139502</td>\n",
       "      <td>0.183935</td>\n",
       "      <td>0.034367</td>\n",
       "      <td>0.246356</td>\n",
       "      <td>1.339363</td>\n",
       "      <td>0.008708</td>\n",
       "      <td>1.082825</td>\n",
       "    </tr>\n",
       "    <tr>\n",
       "      <th>60</th>\n",
       "      <td>(whole milk)</td>\n",
       "      <td>(other vegetables)</td>\n",
       "      <td>0.255516</td>\n",
       "      <td>0.193493</td>\n",
       "      <td>0.074835</td>\n",
       "      <td>0.292877</td>\n",
       "      <td>1.513634</td>\n",
       "      <td>0.025394</td>\n",
       "      <td>1.140548</td>\n",
       "    </tr>\n",
       "    <tr>\n",
       "      <th>75</th>\n",
       "      <td>(pork)</td>\n",
       "      <td>(whole milk)</td>\n",
       "      <td>0.057651</td>\n",
       "      <td>0.255516</td>\n",
       "      <td>0.022166</td>\n",
       "      <td>0.384480</td>\n",
       "      <td>1.504719</td>\n",
       "      <td>0.007435</td>\n",
       "      <td>1.209520</td>\n",
       "    </tr>\n",
       "  </tbody>\n",
       "</table>\n",
       "</div>"
      ],
      "text/plain": [
       "     antecedents         consequents  antecedent support     ...          lift  leverage  conviction\n",
       "80        (soda)        (rolls/buns)            0.174377     ...      1.195124  0.006258    1.046003\n",
       "73  (whole milk)         (pip fruit)            0.255516     ...      1.557043  0.010767    1.047765\n",
       "86      (yogurt)        (rolls/buns)            0.139502     ...      1.339363  0.008708    1.082825\n",
       "60  (whole milk)  (other vegetables)            0.255516     ...      1.513634  0.025394    1.140548\n",
       "75        (pork)        (whole milk)            0.057651     ...      1.504719  0.007435    1.209520\n",
       "\n",
       "[5 rows x 9 columns]"
      ]
     },
     "execution_count": 37,
     "metadata": {},
     "output_type": "execute_result"
    }
   ],
   "source": [
    "rules.sample(5)"
   ]
  },
  {
   "cell_type": "code",
   "execution_count": 38,
   "metadata": {},
   "outputs": [
    {
     "data": {
      "text/html": [
       "<div>\n",
       "<style scoped>\n",
       "    .dataframe tbody tr th:only-of-type {\n",
       "        vertical-align: middle;\n",
       "    }\n",
       "\n",
       "    .dataframe tbody tr th {\n",
       "        vertical-align: top;\n",
       "    }\n",
       "\n",
       "    .dataframe thead th {\n",
       "        text-align: right;\n",
       "    }\n",
       "</style>\n",
       "<table border=\"1\" class=\"dataframe\">\n",
       "  <thead>\n",
       "    <tr style=\"text-align: right;\">\n",
       "      <th></th>\n",
       "      <th>antecedents</th>\n",
       "      <th>consequents</th>\n",
       "      <th>antecedent support</th>\n",
       "      <th>consequent support</th>\n",
       "      <th>support</th>\n",
       "      <th>confidence</th>\n",
       "      <th>lift</th>\n",
       "      <th>leverage</th>\n",
       "      <th>conviction</th>\n",
       "    </tr>\n",
       "  </thead>\n",
       "  <tbody>\n",
       "    <tr>\n",
       "      <th>122</th>\n",
       "      <td>(yogurt, other vegetables)</td>\n",
       "      <td>(whole milk)</td>\n",
       "      <td>0.043416</td>\n",
       "      <td>0.255516</td>\n",
       "      <td>0.022267</td>\n",
       "      <td>0.512881</td>\n",
       "      <td>2.007235</td>\n",
       "      <td>0.011174</td>\n",
       "      <td>1.528340</td>\n",
       "    </tr>\n",
       "    <tr>\n",
       "      <th>17</th>\n",
       "      <td>(butter)</td>\n",
       "      <td>(whole milk)</td>\n",
       "      <td>0.055414</td>\n",
       "      <td>0.255516</td>\n",
       "      <td>0.027555</td>\n",
       "      <td>0.497248</td>\n",
       "      <td>1.946053</td>\n",
       "      <td>0.013395</td>\n",
       "      <td>1.480817</td>\n",
       "    </tr>\n",
       "    <tr>\n",
       "      <th>25</th>\n",
       "      <td>(curd)</td>\n",
       "      <td>(whole milk)</td>\n",
       "      <td>0.053279</td>\n",
       "      <td>0.255516</td>\n",
       "      <td>0.026131</td>\n",
       "      <td>0.490458</td>\n",
       "      <td>1.919481</td>\n",
       "      <td>0.012517</td>\n",
       "      <td>1.461085</td>\n",
       "    </tr>\n",
       "    <tr>\n",
       "      <th>114</th>\n",
       "      <td>(root vegetables, other vegetables)</td>\n",
       "      <td>(whole milk)</td>\n",
       "      <td>0.047382</td>\n",
       "      <td>0.255516</td>\n",
       "      <td>0.023183</td>\n",
       "      <td>0.489270</td>\n",
       "      <td>1.914833</td>\n",
       "      <td>0.011076</td>\n",
       "      <td>1.457687</td>\n",
       "    </tr>\n",
       "    <tr>\n",
       "      <th>116</th>\n",
       "      <td>(root vegetables, whole milk)</td>\n",
       "      <td>(other vegetables)</td>\n",
       "      <td>0.048907</td>\n",
       "      <td>0.193493</td>\n",
       "      <td>0.023183</td>\n",
       "      <td>0.474012</td>\n",
       "      <td>2.449770</td>\n",
       "      <td>0.013719</td>\n",
       "      <td>1.533320</td>\n",
       "    </tr>\n",
       "    <tr>\n",
       "      <th>29</th>\n",
       "      <td>(domestic eggs)</td>\n",
       "      <td>(whole milk)</td>\n",
       "      <td>0.063447</td>\n",
       "      <td>0.255516</td>\n",
       "      <td>0.029995</td>\n",
       "      <td>0.472756</td>\n",
       "      <td>1.850203</td>\n",
       "      <td>0.013783</td>\n",
       "      <td>1.412030</td>\n",
       "    </tr>\n",
       "    <tr>\n",
       "      <th>109</th>\n",
       "      <td>(whipped/sour cream)</td>\n",
       "      <td>(whole milk)</td>\n",
       "      <td>0.071683</td>\n",
       "      <td>0.255516</td>\n",
       "      <td>0.032232</td>\n",
       "      <td>0.449645</td>\n",
       "      <td>1.759754</td>\n",
       "      <td>0.013916</td>\n",
       "      <td>1.352735</td>\n",
       "    </tr>\n",
       "    <tr>\n",
       "      <th>90</th>\n",
       "      <td>(root vegetables)</td>\n",
       "      <td>(whole milk)</td>\n",
       "      <td>0.108998</td>\n",
       "      <td>0.255516</td>\n",
       "      <td>0.048907</td>\n",
       "      <td>0.448694</td>\n",
       "      <td>1.756031</td>\n",
       "      <td>0.021056</td>\n",
       "      <td>1.350401</td>\n",
       "    </tr>\n",
       "    <tr>\n",
       "      <th>50</th>\n",
       "      <td>(root vegetables)</td>\n",
       "      <td>(other vegetables)</td>\n",
       "      <td>0.108998</td>\n",
       "      <td>0.193493</td>\n",
       "      <td>0.047382</td>\n",
       "      <td>0.434701</td>\n",
       "      <td>2.246605</td>\n",
       "      <td>0.026291</td>\n",
       "      <td>1.426693</td>\n",
       "    </tr>\n",
       "    <tr>\n",
       "      <th>32</th>\n",
       "      <td>(frozen vegetables)</td>\n",
       "      <td>(whole milk)</td>\n",
       "      <td>0.048094</td>\n",
       "      <td>0.255516</td>\n",
       "      <td>0.020437</td>\n",
       "      <td>0.424947</td>\n",
       "      <td>1.663094</td>\n",
       "      <td>0.008149</td>\n",
       "      <td>1.294636</td>\n",
       "    </tr>\n",
       "  </tbody>\n",
       "</table>\n",
       "</div>"
      ],
      "text/plain": [
       "                             antecedents         consequents     ...      leverage  conviction\n",
       "122           (yogurt, other vegetables)        (whole milk)     ...      0.011174    1.528340\n",
       "17                              (butter)        (whole milk)     ...      0.013395    1.480817\n",
       "25                                (curd)        (whole milk)     ...      0.012517    1.461085\n",
       "114  (root vegetables, other vegetables)        (whole milk)     ...      0.011076    1.457687\n",
       "116        (root vegetables, whole milk)  (other vegetables)     ...      0.013719    1.533320\n",
       "29                       (domestic eggs)        (whole milk)     ...      0.013783    1.412030\n",
       "109                 (whipped/sour cream)        (whole milk)     ...      0.013916    1.352735\n",
       "90                     (root vegetables)        (whole milk)     ...      0.021056    1.350401\n",
       "50                     (root vegetables)  (other vegetables)     ...      0.026291    1.426693\n",
       "32                   (frozen vegetables)        (whole milk)     ...      0.008149    1.294636\n",
       "\n",
       "[10 rows x 9 columns]"
      ]
     },
     "execution_count": 38,
     "metadata": {},
     "output_type": "execute_result"
    }
   ],
   "source": [
    "# Top ten rules\n",
    "rules.sort_values('confidence', ascending=False)[0:10]"
   ]
  },
  {
   "cell_type": "markdown",
   "metadata": {},
   "source": [
    "## Findings: The probability that a customer buys (whole milk) , given he/she has bought (yogurt and other vegitables), is 0.51.\n",
    "## These rules can be used to create stratergies to keep items together inthe store shelves or cross-selling"
   ]
  },
  {
   "cell_type": "code",
   "execution_count": null,
   "metadata": {},
   "outputs": [],
   "source": []
  }
 ],
 "metadata": {
  "kernelspec": {
   "display_name": "Python 3",
   "language": "python",
   "name": "python3"
  },
  "language_info": {
   "codemirror_mode": {
    "name": "ipython",
    "version": 3
   },
   "file_extension": ".py",
   "mimetype": "text/x-python",
   "name": "python",
   "nbconvert_exporter": "python",
   "pygments_lexer": "ipython3",
   "version": "3.6.8"
  }
 },
 "nbformat": 4,
 "nbformat_minor": 2
}
